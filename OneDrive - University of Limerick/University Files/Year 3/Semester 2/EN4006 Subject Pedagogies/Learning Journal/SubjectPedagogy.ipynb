{
  "nbformat": 4,
  "nbformat_minor": 0,
  "metadata": {
    "colab": {
      "provenance": []
    },
    "kernelspec": {
      "name": "python3",
      "display_name": "Python 3"
    },
    "language_info": {
      "name": "python"
    }
  },
  "cells": [
    {
      "cell_type": "code",
      "execution_count": 1,
      "metadata": {
        "colab": {
          "base_uri": "https://localhost:8080/"
        },
        "id": "DiXcC7aJRmF3",
        "outputId": "c5470f4f-e419-4643-a1bb-df11aa2e276e"
      },
      "outputs": [
        {
          "output_type": "stream",
          "name": "stdout",
          "text": [
            "Hello World\n"
          ]
        }
      ],
      "source": [
        "print(\"Hello World\")"
      ]
    },
    {
      "cell_type": "code",
      "source": [
        "# Introduction to Variables\n",
        "\n",
        "# Define variables\n",
        "name = \"Alice\"\n",
        "age = 15\n",
        "height = 1.65\n",
        "\n",
        "# Print variable values\n",
        "print(\"Name:\", name)\n",
        "print(\"Age:\", age)\n",
        "print(\"Height:\", height)\n",
        "\n",
        "# Update variable value\n",
        "age = 16\n",
        "\n",
        "# Print updated variable value\n",
        "print(\"Updated Age:\", age)"
      ],
      "metadata": {
        "colab": {
          "base_uri": "https://localhost:8080/"
        },
        "id": "LeLc7rlPT8tQ",
        "outputId": "718d2a9d-111a-4f3f-8ad4-b96f643773eb"
      },
      "execution_count": 2,
      "outputs": [
        {
          "output_type": "stream",
          "name": "stdout",
          "text": [
            "Name: Alice\n",
            "Age: 15\n",
            "Height: 1.65\n",
            "Updated Age: 16\n"
          ]
        }
      ]
    },
    {
      "cell_type": "code",
      "source": [
        "# Introduction to Loops\n",
        "\n",
        "# Example 1: Using a for loop to iterate over a sequence\n",
        "print(\"Example 1: Using a for loop to iterate over a sequence\")\n",
        "fruits = [\"apple\", \"banana\", \"cherry\"]\n",
        "for fruit in fruits:\n",
        "    print(fruit)\n",
        "\n",
        "# Example 2: Using a for loop to iterate over a range of numbers\n",
        "print(\"\\nExample 2: Using a for loop to iterate over a range of numbers\")\n",
        "for i in range(5):\n",
        "    print(i)\n",
        "\n",
        "# Example 3: Using a while loop to repeat an action until a condition is met\n",
        "print(\"\\nExample 3: Using a while loop to repeat an action until a condition is met\")\n",
        "count = 0\n",
        "while count < 5:\n",
        "    print(\"Count:\", count)\n",
        "    count += 1"
      ],
      "metadata": {
        "colab": {
          "base_uri": "https://localhost:8080/"
        },
        "id": "yCNYW-PoUQDO",
        "outputId": "2132d0fa-66a9-4503-d858-f1c373d940a2"
      },
      "execution_count": 3,
      "outputs": [
        {
          "output_type": "stream",
          "name": "stdout",
          "text": [
            "Example 1: Using a for loop to iterate over a sequence\n",
            "apple\n",
            "banana\n",
            "cherry\n",
            "\n",
            "Example 2: Using a for loop to iterate over a range of numbers\n",
            "0\n",
            "1\n",
            "2\n",
            "3\n",
            "4\n",
            "\n",
            "Example 3: Using a while loop to repeat an action until a condition is met\n",
            "Count: 0\n",
            "Count: 1\n",
            "Count: 2\n",
            "Count: 3\n",
            "Count: 4\n"
          ]
        }
      ]
    },
    {
      "cell_type": "code",
      "source": [
        "# Introduction to Conditional Statements\n",
        "\n",
        "# Example: Using if, elif, and else statements to make decisions\n",
        "print(\"Example: Using if, elif, and else statements to make decisions\")\n",
        "\n",
        "# Define a variable\n",
        "grade = 85\n",
        "\n",
        "# Determine the grade category\n",
        "if grade >= 90:\n",
        "    category = \"Excellent\"\n",
        "elif grade >= 80:\n",
        "    category = \"Very Good\"\n",
        "elif grade >= 70:\n",
        "    category = \"Good\"\n",
        "elif grade >= 60:\n",
        "    category = \"Satisfactory\"\n",
        "else:\n",
        "    category = \"Needs Improvement\"\n",
        "\n",
        "# Print the grade category\n",
        "print(\"Grade Category:\", category)"
      ],
      "metadata": {
        "colab": {
          "base_uri": "https://localhost:8080/"
        },
        "id": "ckTAFuuHUjDm",
        "outputId": "38b2bcc4-ec7a-46dc-8c0c-6aa5f1592434"
      },
      "execution_count": 4,
      "outputs": [
        {
          "output_type": "stream",
          "name": "stdout",
          "text": [
            "Example: Using if, elif, and else statements to make decisions\n",
            "Grade Category: Very Good\n"
          ]
        }
      ]
    }
  ]
}